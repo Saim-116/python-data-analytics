{
 "cells": [
  {
   "cell_type": "code",
   "execution_count": null,
   "id": "4ccd5a17-8b12-4d1c-9ae1-2dd4225675f9",
   "metadata": {},
   "outputs": [],
   "source": [
    "print(\"hello\")"
   ]
  },
  {
   "cell_type": "markdown",
   "id": "4cbd8dbd-72d3-43d4-8c92-a9d1061aea01",
   "metadata": {},
   "source": [
    "# heading-1"
   ]
  },
  {
   "cell_type": "code",
   "execution_count": null,
   "id": "27ed322e-8632-4bf1-8bc0-a6d8d0d094dc",
   "metadata": {},
   "outputs": [],
   "source": []
  }
 ],
 "metadata": {
  "kernelspec": {
   "display_name": "Python 3 (ipykernel)",
   "language": "python",
   "name": "python3"
  },
  "language_info": {
   "codemirror_mode": {
    "name": "ipython",
    "version": 3
   },
   "file_extension": ".py",
   "mimetype": "text/x-python",
   "name": "python",
   "nbconvert_exporter": "python",
   "pygments_lexer": "ipython3",
   "version": "3.12.4"
  }
 },
 "nbformat": 4,
 "nbformat_minor": 5
}
